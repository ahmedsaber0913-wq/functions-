{
  "nbformat": 4,
  "nbformat_minor": 0,
  "metadata": {
    "kernelspec": {
      "display_name": "Python",
      "language": "python",
      "name": "conda-env-python-py"
    },
    "language_info": {
      "codemirror_mode": {
        "name": "ipython",
        "version": 3
      },
      "file_extension": ".py",
      "mimetype": "text/x-python",
      "name": "python",
      "nbconvert_exporter": "python",
      "pygments_lexer": "ipython3",
      "version": "3.6.7"
    },
    "colab": {
      "name": "PY0101EN-3-4-Classes.ipynb",
      "provenance": []
    }
  },
  "cells": [
    {
      "cell_type": "code",
      "source": [
        "class Book:\n",
        "    def __init__(self , title , author , isbn , availble) :\n",
        "        self.title=title\n",
        "        self.author=author\n",
        "        self.isbn=isbn\n",
        "        self.availble=availble\n",
        "\n",
        "    def display_info(self)->None :\n",
        "        Status=\"Available\" if self.availble else \"Not Available\"\n",
        "        print(f\"Title : {self.title}\")\n",
        "        print(f\"Author : {self.author}\")\n",
        "        print(f\"ISBN : {self.isbn}\")\n",
        "        print(f\"Availble : {self.availble}\")"
      ],
      "metadata": {
        "id": "WthErV5GXfsi"
      },
      "execution_count": 10,
      "outputs": []
    },
    {
      "cell_type": "code",
      "source": [
        "class members:\n",
        "  def __init__(self, name , membership_id):\n",
        "    self.name=name\n",
        "    self.membership_id=membership_id\n",
        "    self.borrowed_books=[]\n",
        "  def borrow_book(self,book):\n",
        "    if book.availble:\n",
        "      self.borrowed_books.append(book)\n",
        "      book.availble=False\n",
        "      print(f\"{self.name} has borrowed {book.title}\")\n",
        "    else:\n",
        "      print(f\"sorry,{book.title} is not available for borrowing\")\n",
        "\n",
        "  def return_book(self,book):\n",
        "    if book in self.borrowed_books:\n",
        "      self.borrowed_books.remove(book)\n",
        "      book.availble=True\n",
        "      print(f\"{self.name} has returned {book.title}\")\n",
        "    else:\n",
        "      print(f\"{self.name} does not have {book.title} borrowed\")"
      ],
      "metadata": {
        "id": "DF2dVDUcaFPb"
      },
      "execution_count": 18,
      "outputs": []
    },
    {
      "cell_type": "code",
      "source": [],
      "metadata": {
        "id": "JzWpg3Vgb32j"
      },
      "execution_count": null,
      "outputs": []
    }
  ]
}